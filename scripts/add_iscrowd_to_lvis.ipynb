{
 "cells": [
  {
   "cell_type": "markdown",
   "id": "20b88e53-c391-4a40-a347-0c351ee2bba5",
   "metadata": {},
   "source": [
    "### Adding iscrowd annotation to lvis 0.5 dataset"
   ]
  },
  {
   "cell_type": "code",
   "execution_count": 9,
   "id": "f7bccef5-1ce2-4991-ad2b-bfcede02dce8",
   "metadata": {},
   "outputs": [],
   "source": [
    "import json\n",
    "import os\n",
    "import numpy as np\n",
    "from copy import deepcopy"
   ]
  },
  {
   "cell_type": "code",
   "execution_count": 2,
   "id": "8598b1d1-01ec-4104-bdfa-fa4d9d6a9b77",
   "metadata": {},
   "outputs": [],
   "source": [
    "trainset = '/home/anishmad/msr_thesis/mqdet/DATASET/coco/annotations/ffsod_detic_splits/lvis_shots.json'\n",
    "testset = '/home/anishmad/msr_thesis/mqdet/DATASET/coco/annotations/ffsod_detic_splits/lvis_v05_val.json'\n",
    "\n"
   ]
  },
  {
   "cell_type": "code",
   "execution_count": 11,
   "id": "ed609aa5-2ec3-4f1a-8443-7c1150af9262",
   "metadata": {},
   "outputs": [],
   "source": [
    "with open(trainset) as f:\n",
    "    tr_data = json.load(f)\n",
    "\n",
    "with open(testset) as f:\n",
    "    te_data = json.load(f)\n",
    "    "
   ]
  },
  {
   "cell_type": "code",
   "execution_count": 12,
   "id": "6a04139e-e2e4-426b-af06-134dd6353412",
   "metadata": {},
   "outputs": [],
   "source": [
    "new_tr_data = deepcopy(tr_data)\n",
    "new_te_data = deepcopy(te_data)\n"
   ]
  },
  {
   "cell_type": "code",
   "execution_count": 13,
   "id": "b88a20d6-39c7-430e-8653-06baaaf55720",
   "metadata": {},
   "outputs": [
    {
     "data": {
      "text/plain": [
       "{'image_id': 426878,\n",
       " 'id': 311105,\n",
       " 'category_id': 1,\n",
       " 'area': 1042.86,\n",
       " 'segmentation': [[189.83,\n",
       "   9.65,\n",
       "   188.61,\n",
       "   0.31,\n",
       "   186.47,\n",
       "   0.31,\n",
       "   187.38,\n",
       "   9.96,\n",
       "   186.16,\n",
       "   10.11,\n",
       "   186.77,\n",
       "   15.17,\n",
       "   183.86,\n",
       "   16.24,\n",
       "   180.34,\n",
       "   18.38,\n",
       "   178.81,\n",
       "   20.83,\n",
       "   177.74,\n",
       "   24.66,\n",
       "   177.28,\n",
       "   27.73,\n",
       "   177.28,\n",
       "   30.64,\n",
       "   178.05,\n",
       "   33.55,\n",
       "   178.35,\n",
       "   34.31,\n",
       "   178.97,\n",
       "   34.62,\n",
       "   179.73,\n",
       "   34.16,\n",
       "   180.19,\n",
       "   34.77,\n",
       "   181.11,\n",
       "   40.28,\n",
       "   183.4,\n",
       "   47.48,\n",
       "   185.7,\n",
       "   53.15,\n",
       "   187.23,\n",
       "   54.99,\n",
       "   190.44,\n",
       "   57.13,\n",
       "   193.66,\n",
       "   57.9,\n",
       "   198.25,\n",
       "   57.74,\n",
       "   202.23,\n",
       "   55.75,\n",
       "   204.98,\n",
       "   52.84,\n",
       "   206.51,\n",
       "   50.24,\n",
       "   206.67,\n",
       "   47.48,\n",
       "   206.51,\n",
       "   43.35,\n",
       "   205.9,\n",
       "   38.91,\n",
       "   205.14,\n",
       "   35.54,\n",
       "   204.22,\n",
       "   32.63,\n",
       "   203.91,\n",
       "   30.33,\n",
       "   206.82,\n",
       "   28.95,\n",
       "   206.82,\n",
       "   27.27,\n",
       "   206.05,\n",
       "   25.43,\n",
       "   203.3,\n",
       "   20.83,\n",
       "   200.39,\n",
       "   17.31,\n",
       "   196.87,\n",
       "   14.86,\n",
       "   193.96,\n",
       "   13.64,\n",
       "   191.82,\n",
       "   13.79,\n",
       "   191.36,\n",
       "   8.73,\n",
       "   189.83,\n",
       "   9.65]],\n",
       " 'bbox': [177.28, 0.31, 29.54, 57.59]}"
      ]
     },
     "execution_count": 13,
     "metadata": {},
     "output_type": "execute_result"
    }
   ],
   "source": [
    "new_tr_data['annotations'][0]"
   ]
  },
  {
   "cell_type": "code",
   "execution_count": 14,
   "id": "8e9e1b61-ee5c-4e8c-9656-e5ee9f3bf3cd",
   "metadata": {},
   "outputs": [],
   "source": [
    "for anno in new_tr_data['annotations']:\n",
    "    anno['iscrowd'] = 0"
   ]
  },
  {
   "cell_type": "code",
   "execution_count": 15,
   "id": "a9f562a8-3a5d-4f18-876e-f69d6b6b2611",
   "metadata": {},
   "outputs": [],
   "source": [
    "for anno in new_te_data['annotations']:\n",
    "    anno['iscrowd'] = 0"
   ]
  },
  {
   "cell_type": "code",
   "execution_count": 17,
   "id": "ae77d4e3-2cb7-4ec4-8ec9-40d2ce5d13bc",
   "metadata": {},
   "outputs": [],
   "source": [
    "save_dir = '/home/anishmad/msr_thesis/mqdet/DATASET/coco/annotations/ffsod_detic_splits_with_crowd'\n",
    "os.makedirs(save_dir, exist_ok=True)"
   ]
  },
  {
   "cell_type": "code",
   "execution_count": 18,
   "id": "0b4347c1-2e27-45e5-9739-c005c64c4541",
   "metadata": {},
   "outputs": [],
   "source": [
    "with open(os.path.join(save_dir, 'lvis_shots.json'),'w') as f:\n",
    "    json.dump(new_tr_data,f)\n",
    "\n",
    "with open(os.path.join(save_dir, 'lvis_v05_val.json'), 'w') as f:\n",
    "    json.dump(new_te_data, f)"
   ]
  },
  {
   "cell_type": "code",
   "execution_count": 19,
   "id": "3efa4ed4-f9c8-4642-b5f8-d9525976eed9",
   "metadata": {},
   "outputs": [
    {
     "data": {
      "text/plain": [
       "{'not_exhaustive_category_ids': [],\n",
       " 'date_captured': '2013-11-14 11:18:45',\n",
       " 'file_name': '000000391895.jpg',\n",
       " 'neg_category_ids': [481,\n",
       "  325,\n",
       "  1043,\n",
       "  419,\n",
       "  264,\n",
       "  984,\n",
       "  98,\n",
       "  131,\n",
       "  1131,\n",
       "  1011,\n",
       "  450,\n",
       "  216,\n",
       "  18,\n",
       "  1087],\n",
       " 'license': 3,\n",
       " 'coco_url': 'http://images.cocodataset.org/train2017/000000391895.jpg',\n",
       " 'id': 391895,\n",
       " 'width': 640,\n",
       " 'height': 360,\n",
       " 'flickr_url': 'http://farm9.staticflickr.com/8186/8119368305_4e622c8349_z.jpg'}"
      ]
     },
     "execution_count": 19,
     "metadata": {},
     "output_type": "execute_result"
    }
   ],
   "source": [
    "new_tr_data['images'][0]"
   ]
  },
  {
   "cell_type": "code",
   "execution_count": null,
   "id": "24180aa5-eff3-4599-ba90-5fa6bfbaf915",
   "metadata": {},
   "outputs": [],
   "source": []
  }
 ],
 "metadata": {
  "kernelspec": {
   "display_name": "Python 3 (ipykernel)",
   "language": "python",
   "name": "python3"
  },
  "language_info": {
   "codemirror_mode": {
    "name": "ipython",
    "version": 3
   },
   "file_extension": ".py",
   "mimetype": "text/x-python",
   "name": "python",
   "nbconvert_exporter": "python",
   "pygments_lexer": "ipython3",
   "version": "3.8.16"
  }
 },
 "nbformat": 4,
 "nbformat_minor": 5
}
